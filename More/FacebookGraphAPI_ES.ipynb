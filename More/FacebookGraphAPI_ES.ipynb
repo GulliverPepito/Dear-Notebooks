{
 "cells": [
  {
   "cell_type": "markdown",
   "metadata": {},
   "source": [
    "# Facebook Graph API v2.5\n",
    "\n",
    "En este IPython Notebook se anotarán algunos usos básicos la API que provee Facebook."
   ]
  },
  {
   "cell_type": "code",
   "execution_count": 1,
   "metadata": {
    "collapsed": true
   },
   "outputs": [],
   "source": [
    "import json\n",
    "import requests\n",
    "\n",
    "BASE = \"https://graph.facebook.com\"\n",
    "VERSION = \"v2.5\"\n",
    "\n",
    "# Si queremos imprimir los json de respuesta \n",
    "# de una forma mas agradable a la vista podemos usar\n",
    "def print_pretty(jsonstring, indent=4, sort_keys=False):\n",
    "    print(json.dumps(jsonstring, indent=indent, sort_keys=sort_keys))"
   ]
  },
  {
   "cell_type": "markdown",
   "metadata": {},
   "source": [
    "Tomamos el **access token** temporal creado en [Graph API Explorer](https://developers.facebook.com/tools/explorer). Si queremos crear uno que sea permanente podemos usar las instrucciones de [esta pregunta de StackOverflow](http://stackoverflow.com/a/28418469/3281097) o de [esta otra pregunta](http://stackoverflow.com/a/15648802/3281097). Alternativamente, podemos crear un token de acceso con nuestra *id* y *clave*:"
   ]
  },
  {
   "cell_type": "code",
   "execution_count": 2,
   "metadata": {
    "collapsed": false
   },
   "outputs": [],
   "source": [
    "with open(\"credentials\") as f:\n",
    "    access_token = str(f.read().splitlines()[0])"
   ]
  },
  {
   "cell_type": "markdown",
   "metadata": {},
   "source": [
    "Partiremos con lo más simple. Una consulta `GET` para obtener información sobre nosotros mismos.\n",
    "\n",
    "> GET /me\n",
    "\n",
    "El token de acceso se envía como parámetro, junto con los campos que queremos obtener de la consulta:"
   ]
  },
  {
   "cell_type": "code",
   "execution_count": 3,
   "metadata": {
    "collapsed": false
   },
   "outputs": [
    {
     "name": "stdout",
     "output_type": "stream",
     "text": [
      "{\n",
      "    \"id\": \"10205151616052455\",\n",
      "    \"name\": \"Antonio Andr\\u00e9s Ossa Guerra\"\n",
      "}\n"
     ]
    }
   ],
   "source": [
    "url = \"{}/{}/me\".format(BASE, VERSION)\n",
    "params = {\n",
    "    \"access_token\": access_token,\n",
    "    \"fields\": [\"id\", \"name\"]\n",
    "}\n",
    "req = requests.get(url, params=params)\n",
    "print_pretty(req.json())\n",
    "\n",
    "my_id = req.json()[\"id\"]\n",
    "my_name = req.json()[\"name\"]"
   ]
  },
  {
   "cell_type": "markdown",
   "metadata": {
    "collapsed": true
   },
   "source": [
    "Ahora, publicaremos un estado. Esta request nos retornará la `id` del post, que será publicado con visibilidad \"Solo para mi\" (*Only me*)\n",
    "\n",
    "> POST /me/feed"
   ]
  },
  {
   "cell_type": "code",
   "execution_count": 8,
   "metadata": {
    "collapsed": false
   },
   "outputs": [
    {
     "name": "stdout",
     "output_type": "stream",
     "text": [
      "{\n",
      "    \"id\": \"10205151616052455_10208715273621667\"\n",
      "}\n",
      "status_id = 10205151616052455_10208715273621667\n"
     ]
    }
   ],
   "source": [
    "url = \"{}/{}/me/feed\".format(BASE, VERSION)\n",
    "params = {\n",
    "    \"access_token\": access_token,\n",
    "    \"message\": \"Este estado lo publiqué usando la API de Facebook :O\"\n",
    "}\n",
    "req = requests.post(url, params=params)\n",
    "status_id = req.json()[\"id\"]\n",
    "print(\"status_id = {}\".format(status_id))"
   ]
  },
  {
   "cell_type": "markdown",
   "metadata": {},
   "source": [
    "Luego, podemos directamente borrar un estado solo si lo publicamos usando la API:\n",
    "    \n",
    "> DELETE /{status-id}"
   ]
  },
  {
   "cell_type": "code",
   "execution_count": 10,
   "metadata": {
    "collapsed": false
   },
   "outputs": [
    {
     "name": "stdout",
     "output_type": "stream",
     "text": [
      "{\n",
      "    \"success\": true\n",
      "}\n"
     ]
    }
   ],
   "source": [
    "url = \"{}/{}/{}\".format(BASE, VERSION, status_id)\n",
    "params = {\n",
    "    \"access_token\": access_token\n",
    "}\n",
    "req = requests.delete(url, params = params)\n",
    "print_pretty(req.json()) "
   ]
  }
 ],
 "metadata": {
  "kernelspec": {
   "display_name": "Python 3",
   "language": "python",
   "name": "python3"
  },
  "language_info": {
   "codemirror_mode": {
    "name": "ipython",
    "version": 3
   },
   "file_extension": ".py",
   "mimetype": "text/x-python",
   "name": "python",
   "nbconvert_exporter": "python",
   "pygments_lexer": "ipython3",
   "version": "3.4.3"
  }
 },
 "nbformat": 4,
 "nbformat_minor": 0
}
