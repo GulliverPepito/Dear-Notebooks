{
 "cells": [
  {
   "cell_type": "markdown",
   "metadata": {},
   "source": [
    "# El \"problema\"\n",
    "\n",
    "Es posible que al usar funciones con parámetros por defecto se encuentren con cierto comportamiento inesperado o poco intuitivo de Python. Por estas cosas siempre hay que revisar el código, conocerlo lo mejor posible y saber responder cuando las cosas no funcionan como uno espera.\n",
    "\n",
    "Veamos el comportamiento de los parametros por defecto en funciones"
   ]
  },
  {
   "cell_type": "code",
   "execution_count": 1,
   "metadata": {
    "collapsed": false
   },
   "outputs": [],
   "source": [
    "def funcion(lista=[]):\n",
    "    lista.append(1)\n",
    "    print(\"La lista vale: {}\".format(lista))"
   ]
  },
  {
   "cell_type": "markdown",
   "metadata": {},
   "source": [
    "Si llamamos a la función una vez..."
   ]
  },
  {
   "cell_type": "code",
   "execution_count": 2,
   "metadata": {
    "collapsed": false
   },
   "outputs": [
    {
     "name": "stdout",
     "output_type": "stream",
     "text": [
      "La lista vale: [1]\n"
     ]
    }
   ],
   "source": [
    "funcion()"
   ]
  },
  {
   "cell_type": "markdown",
   "metadata": {},
   "source": [
    "... todo funciona como lo suponemos, pero y si probamos otra vez..."
   ]
  },
  {
   "cell_type": "code",
   "execution_count": 3,
   "metadata": {
    "collapsed": false
   },
   "outputs": [
    {
     "name": "stdout",
     "output_type": "stream",
     "text": [
      "La lista vale: [1, 1]\n",
      "La lista vale: [1, 1, 1]\n"
     ]
    }
   ],
   "source": [
    "funcion()\n",
    "funcion()"
   ]
  },
  {
   "cell_type": "markdown",
   "metadata": {},
   "source": [
    "... ok? No funciona como lo supondriamos.\n",
    "\n",
    "Esto también podemos extenderlo a clases, donde es comun usar parámetros por defecto:"
   ]
  },
  {
   "cell_type": "code",
   "execution_count": 4,
   "metadata": {
    "collapsed": false
   },
   "outputs": [
    {
     "name": "stdout",
     "output_type": "stream",
     "text": [
      "Lista de la clase: [1]\n",
      "Lista de la clase: [1, 1]\n",
      "[1, 1, 5]\n",
      "[1, 1, 5]\n"
     ]
    }
   ],
   "source": [
    "class Clase:\n",
    "\n",
    "    def __init__(self, lista=[]):\n",
    "        self.lista = lista\n",
    "        self.lista.append(1)\n",
    "        print(\"Lista de la clase: {}\".format(self.lista))\n",
    "\n",
    "# Instanciamos dos objetos\n",
    "A = Clase()\n",
    "B = Clase()\n",
    "\n",
    "# Modificamos el parametro en una\n",
    "A.lista.append(5)\n",
    "\n",
    "# What??\n",
    "print(A.lista)\n",
    "print(B.lista)"
   ]
  },
  {
   "cell_type": "markdown",
   "metadata": {},
   "source": [
    "# Investigando nuestro código\n",
    "\n",
    "Veamos un poco qué está pasando en nuestro código:"
   ]
  },
  {
   "cell_type": "code",
   "execution_count": 5,
   "metadata": {
    "collapsed": false
   },
   "outputs": [
    {
     "name": "stdout",
     "output_type": "stream",
     "text": [
      "Lista de la clase: [1, 1, 5, 1]\n",
      "Lista de la clase: [1, 1, 5, 1, 1]\n",
      "Lista de la clase: ['GG', 1]\n",
      "\n",
      "Los objetos son distintos!\n",
      "id(A): 72497248 \n",
      "id(B): 72497192 \n",
      "id(C): 72499096\n",
      "\n",
      "Pero la lista es la misma para A y para B :O\n",
      "id(A.lista): 72545608 \n",
      "id(B.lista): 72545608 \n",
      "id(C.lista): 68790472\n"
     ]
    }
   ],
   "source": [
    "# Instanciemos algunos objetos\n",
    "A = Clase()\n",
    "B = Clase()\n",
    "C = Clase(lista=[\"GG\"]) # Usaremos esta isntancia como control\n",
    "\n",
    "print(\"\\nLos objetos son distintos!\")\n",
    "print(\"id(A): {} \\nid(B): {} \\nid(C): {}\".format(id(A), id(B), id(C)))\n",
    "\n",
    "print(\"\\nPero la lista es la misma para A y para B :O\")\n",
    "print(\"id(A.lista): {} \\nid(B.lista): {} \\nid(C.lista): {}\".format(id(A.lista), id(B.lista), id(C.lista)))"
   ]
  },
  {
   "cell_type": "markdown",
   "metadata": {},
   "source": [
    "# ¿Qué está pasando? D:\n",
    "\n",
    "En Python, las funciones son objetos del tipo `callable`, es decir, que son llamables, ejecutan una operación."
   ]
  },
  {
   "cell_type": "code",
   "execution_count": 6,
   "metadata": {
    "collapsed": false
   },
   "outputs": [
    {
     "name": "stdout",
     "output_type": "stream",
     "text": [
      "([],)\n",
      "([5],)\n",
      "([1, 1, 5, 1, 1],)\n"
     ]
    }
   ],
   "source": [
    "# De hecho, tienen atributos...\n",
    "\n",
    "def funcion(lista=[]):\n",
    "    lista.append(5)\n",
    "    \n",
    "# En la funcion \"funcion\"...\n",
    "print(\"{}\".format(funcion.__defaults__))\n",
    "\n",
    "# ... si la invocamos...\n",
    "funcion()\n",
    "\n",
    "# ahora tenemos...\n",
    "print(\"{}\".format(funcion.__defaults__))\n",
    "\n",
    "\n",
    "# Si vemos como quedo el metodo \"__init__\" de la clase Clase...\n",
    "print(\"{}\".format(Clase.__init__.__defaults__))"
   ]
  },
  {
   "cell_type": "markdown",
   "metadata": {},
   "source": [
    "El código que define a función es evaluado **una vez** y dicho valor evaluado es el que se usa en cada llamado posterior. Por lo tanto, **al modificar el valor de un parámetro por defecto que es mutable** (`list`, `dict`, etc.) **se modifica el valor por defecto para el siguiente llamado**.\n",
    "\n",
    "# ¿Cómo evitar esto? \n",
    "\n",
    "Una solución simple es **usar `None`** como el valor predeterminado para los parámetros por defecto. Y otra solución es la declaración de variables condicionales:"
   ]
  },
  {
   "cell_type": "code",
   "execution_count": 7,
   "metadata": {
    "collapsed": true
   },
   "outputs": [],
   "source": [
    "class Clase:\n",
    "    \n",
    "    def __init__(self, lista=None):\n",
    "        # Version \"one-liner\":\n",
    "        self.lista = lista if lista is not None else list()\n",
    "        \n",
    "        # En su version extendida:\n",
    "        if lista is not None:\n",
    "            self.lista = lista\n",
    "        else:\n",
    "            self.lista = list()"
   ]
  },
  {
   "cell_type": "markdown",
   "metadata": {},
   "source": [
    "**Importante:** Esto no es un bug/error/magia negra... Es Python. En Python *todo es un objeto*, incluso las funciones...\n",
    "\n",
    "### Recursos sobre el tema:\n",
    "\n",
    "* StackOverflow - “Least Astonishment” in Python: The Mutable Default Argument [[link]](http://stackoverflow.com/questions/1132941/least-astonishment-in-python-the-mutable-default-argument)\n",
    "* Effbot.org - Default Parameter Values in Python [[link]](http://effbot.org/zone/default-values.htm)\n",
    "* Python Docs - Compound statements > Function definitions [[link]](https://docs.python.org/3.4/reference/compound_stmts.html#def)\n",
    "* Python Docs - Data model > The standard type hierarchy [[link]](https://docs.python.org/3.4/reference/datamodel.html#types)"
   ]
  }
 ],
 "metadata": {
  "kernelspec": {
   "display_name": "Python 3",
   "language": "python",
   "name": "python3"
  },
  "language_info": {
   "codemirror_mode": {
    "name": "ipython",
    "version": 3
   },
   "file_extension": ".py",
   "mimetype": "text/x-python",
   "name": "python",
   "nbconvert_exporter": "python",
   "pygments_lexer": "ipython3",
   "version": "3.4.3"
  }
 },
 "nbformat": 4,
 "nbformat_minor": 0
}
