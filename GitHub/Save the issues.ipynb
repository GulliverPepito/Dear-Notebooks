{
 "cells": [
  {
   "cell_type": "markdown",
   "metadata": {},
   "source": [
    "# Save the issues!\n",
    "\n",
    "Get issues from GitHub repositories and save them into a file. I'll follow [this Kaggle competition data format](https://www.kaggle.com/c/facebook-recruiting-iii-keyword-extraction) because it's similar."
   ]
  },
  {
   "cell_type": "code",
   "execution_count": 1,
   "metadata": {
    "collapsed": false
   },
   "outputs": [],
   "source": [
    "# Personal access token (GitHub)\n",
    "TOKEN = None\n",
    "with open(\"github.token\", \"r\") as gt:\n",
    "    TOKEN = gt.read()\n",
    "USER = \"aaossa\""
   ]
  },
  {
   "cell_type": "code",
   "execution_count": 2,
   "metadata": {
    "collapsed": false
   },
   "outputs": [],
   "source": [
    "from collections import namedtuple\n",
    "\n",
    "\n",
    "# Repositories\n",
    "# Note: Use NamedTuple [1] \"if you were going to create a\n",
    "# bunch of instances of a class [...] and not change the \n",
    "# attributes after you them in __init__ [..]\" [2]\n",
    "# [1]: https://docs.python.org/3/library/collections.html#collections.namedtuple\n",
    "# [2]: http://stackoverflow.com/a/9872434/3281097\n",
    "Repository = namedtuple(\"Repository\", [\"owner\", \"repo\"])\n",
    "\n",
    "REPOS = list()\n",
    "REPOS.append(Repository(owner=\"IIC2233-2015-1\", repo=\"syllabus\"))\n",
    "REPOS.append(Repository(owner=\"IIC2233-2015-2\", repo=\"syllabus\"))\n",
    "REPOS.append(Repository(owner=\"IIC2233-2016-1\", repo=\"syllabus\"))\n",
    "REPOS.append(Repository(owner=\"IIC2233-2016-02\", repo=\"Syllabus\"))\n",
    "\n",
    "# Issues\n",
    "Issue = namedtuple(\"Issue\", [\"number\", \"title\", \"body\", \"labels\", \"url\"])"
   ]
  },
  {
   "cell_type": "code",
   "execution_count": 3,
   "metadata": {
    "collapsed": true
   },
   "outputs": [],
   "source": [
    "import re\n",
    "from requests import Session\n",
    "\n",
    "\n",
    "# Maybe should be 'page=(\\d+)[^?]+?>; rel=\"last\"' (not tested)\n",
    "PAGE_REGEX = re.compile('page=(\\d+)(&state=all)?>; rel=\"last\"')\n",
    "ROOT = \"https://api.github.com\"\n",
    "SESSION = Session()\n",
    "SESSION.auth = (USER, TOKEN)"
   ]
  },
  {
   "cell_type": "code",
   "execution_count": 4,
   "metadata": {
    "collapsed": false
   },
   "outputs": [],
   "source": [
    "def get_issues_for_repository(repository, session=SESSION):\n",
    "    \"\"\"\n",
    "    [IN] repository <Repository>: Repository objet with owner and name of the repo\n",
    "    [IN] session <requests.Session> (opt): Session object used to send requests to the API\n",
    "    \n",
    "    Asks for every page of issues and returns a list with every issue\n",
    "    in the repository.\n",
    "     \n",
    "    [OUT] issues <map<Issue>>: List of issues (Issue), each one with its number, title\n",
    "                    body, labels and url.\n",
    "    \"\"\"\n",
    "    issues = list()\n",
    "    # List issues for each repository [1]\n",
    "    # [1]: https://developer.github.com/v3/issues/#list-issues-for-a-repository\n",
    "    endpoint_url = \"{root}/repos/{owner}/{repo}/issues\"\n",
    "    endpoint_url = endpoint_url.format(root=ROOT, owner=repository.owner, repo=repository.repo)\n",
    "\n",
    "    # Traversing with Pagination [2]\n",
    "    # [2]: https://developer.github.com/guides/traversing-with-pagination/#basics-of-pagination\n",
    "    req = session.get(endpoint_url, params={\"page\": 1, \"state\": \"all\"})\n",
    "    _ = PAGE_REGEX.search(req.headers.get(\"link\"))\n",
    "    number_of_pages = 1 if _ is None else int(_.group(1))\n",
    "    issues += process_issues(req.json())\n",
    "    for page in range(2, number_of_pages + 1):\n",
    "        req = session.get(endpoint_url, params={\"page\": page, \"state\": \"all\"})\n",
    "        issues += process_issues(req.json())\n",
    "    return issues\n",
    "\n",
    "\n",
    "def process_issues(issues_page):\n",
    "    \"\"\"\n",
    "    [IN] issues_page <list>: List from the response (json) given by the API\n",
    "    \n",
    "    Filters PRs and create an Issue object from each dictionary returned by the API\n",
    "    \n",
    "    [OUT] processed_issues<map<Issue>>: A map object with every issue (Issue), ignoring PRs\n",
    "    \"\"\"\n",
    "    # Ignore pull requests (PR)\n",
    "    filtered_issues = filter(lambda issue: \"pull_request\" not in issue.keys(), issues_page)\n",
    "    # Convert each issue dictionary in a Issue namedtuple\n",
    "    processed_issues = map(lambda issue: Issue(number=issue.get(\"number\"),\n",
    "                                                    title=issue.get(\"title\"),\n",
    "                                                    body=issue.get(\"body\"),\n",
    "                                                    labels=list(map(lambda label: label.get(\"name\"), issue.get(\"labels\"))),\n",
    "                                                    url=issue.get(\"url\")), filtered_issues)\n",
    "    return processed_issues\n"
   ]
  },
  {
   "cell_type": "markdown",
   "metadata": {},
   "source": [
    "# Demo\n",
    "\n",
    "Using [aaossa/aaossa.github.io](https://github.com/aaossa/aaossa.github.io)"
   ]
  },
  {
   "cell_type": "code",
   "execution_count": 5,
   "metadata": {
    "collapsed": false
   },
   "outputs": [
    {
     "name": "stdout",
     "output_type": "stream",
     "text": [
      "Help on function get_issues_for_repository in module __main__:\n",
      "\n",
      "get_issues_for_repository(repository, session=<requests.sessions.Session object at 0x000000000595DD30>)\n",
      "    [IN] repository <Repository>: Repository objet with owner and name of the repo\n",
      "    [IN] session <requests.Session> (opt): Session object used to send requests to the API\n",
      "    \n",
      "    Asks for every page of issues and returns a list with every issue\n",
      "    in the repository.\n",
      "     \n",
      "    [OUT] issues <map<Issue>>: List of issues (Issue), each one with its number, title\n",
      "                    body, labels and url.\n",
      "\n"
     ]
    }
   ],
   "source": [
    "# TODO: Use PEP257 [1]\n",
    "# [1]: https://www.python.org/dev/peps/pep-0257/\n",
    "help(get_issues_for_repository)"
   ]
  },
  {
   "cell_type": "code",
   "execution_count": 6,
   "metadata": {
    "collapsed": false
   },
   "outputs": [
    {
     "name": "stdout",
     "output_type": "stream",
     "text": [
      "Help on function process_issues in module __main__:\n",
      "\n",
      "process_issues(issues_page)\n",
      "    [IN] issues_page <list>: List from the response (json) given by the API\n",
      "    \n",
      "    Filters PRs and create an Issue object from each dictionary returned by the API\n",
      "    \n",
      "    [OUT] processed_issues<map<Issue>>: A map object with every issue (Issue), ignoring PRs\n",
      "\n"
     ]
    }
   ],
   "source": [
    "# TODO: Use PEP257\n",
    "help(process_issues)"
   ]
  },
  {
   "cell_type": "code",
   "execution_count": 7,
   "metadata": {
    "collapsed": false
   },
   "outputs": [
    {
     "name": "stdout",
     "output_type": "stream",
     "text": [
      "#33 - Fix contrast\n",
      "#32 - Avoid empty elements\n",
      "#31 - Complete projects descriptions\n",
      "#30 - Responsive footer\n",
      "#27 - Translations\n",
      "#26 - Markdown style\n",
      "#25 - Improve header\n",
      "#23 - Improve syntax highlighting\n",
      "#22 - Self hosted git server\n",
      "#21 - Load Disqus on demand\n",
      "#20 - Icons animation on hover new code\n",
      "#19 - Add descriptions in contact page\n",
      "#18 - Organize .css and .scss files\n",
      "#17 - Google Analytics\n",
      "#16 - Design?... pls\n",
      "#15 - Improve contact page\n",
      "#14 - Links to social media websites\n",
      "#13 - Months language\n",
      "#12 - Footer\n",
      "#11 - Enable Disqus comments\n",
      "#10 - Load MathJax over HTTPS\n",
      "#9 - Initial entry\n",
      "#8 - Style\n",
      "#7 - LaTeX/MathJax support\n",
      "#6 - Mobile support\n",
      "#5 - Useful reading\n",
      "#4 - Add other pages\n",
      "#3 - Multilingual website\n",
      "#2 - Icon\n",
      "#1 - Customize Jekyll's url\n"
     ]
    }
   ],
   "source": [
    "# Retrieveing issues from a repository\n",
    "issues_repo_demo = get_issues_for_repository(Repository(owner=\"aaossa\", repo=\"aaossa.github.io\"))\n",
    "\n",
    "for issue in issues_repo_demo:\n",
    "    print(\"#{number} - {title}\".format(number=issue.number, title=issue.title))"
   ]
  },
  {
   "cell_type": "code",
   "execution_count": 8,
   "metadata": {
    "collapsed": false
   },
   "outputs": [
    {
     "name": "stdout",
     "output_type": "stream",
     "text": [
      "#33 - Fix contrast\n",
      "[Enhancement, Priority (short-term)]\n",
      "\n",
      "[Contrast Rebellion](http://contrastrebellion.com/)\n",
      "\n",
      "\n",
      "Link: https://api.github.com/repos/aaossa/aaossa.github.io/issues/33\n"
     ]
    }
   ],
   "source": [
    "# Each Issue object contains only the relevant information\n",
    "issue_demo = issues_repo_demo[0]\n",
    "\n",
    "output = \"\"\"\\\n",
    "#{number} - {title}\n",
    "[{labels}]\n",
    "\n",
    "{body}\n",
    "\n",
    "Link: {url}\"\"\"\n",
    "\n",
    "print(output.format(\n",
    "        number=issue_demo.number, \n",
    "        title=issue_demo.title, \n",
    "        labels=\", \".join(issue_demo.labels), \n",
    "        body=issue_demo.body, \n",
    "        url=issue_demo.url))"
   ]
  },
  {
   "cell_type": "code",
   "execution_count": null,
   "metadata": {
    "collapsed": true
   },
   "outputs": [],
   "source": []
  }
 ],
 "metadata": {
  "kernelspec": {
   "display_name": "Python 3",
   "language": "python",
   "name": "python3"
  },
  "language_info": {
   "codemirror_mode": {
    "name": "ipython",
    "version": 3
   },
   "file_extension": ".py",
   "mimetype": "text/x-python",
   "name": "python",
   "nbconvert_exporter": "python",
   "pygments_lexer": "ipython3",
   "version": "3.5.2"
  }
 },
 "nbformat": 4,
 "nbformat_minor": 1
}
