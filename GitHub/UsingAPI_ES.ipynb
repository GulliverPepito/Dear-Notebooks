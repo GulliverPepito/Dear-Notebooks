{
 "cells": [
  {
   "cell_type": "markdown",
   "metadata": {},
   "source": [
    "# GitHub API v3\n",
    "\n",
    "La idea de este documento es mostrar el uso de la [**API de GitHub (v3)**](https://developer.github.com/v3/). Para esto usaremos [Python 3.4](https://www.python.org).\n",
    "\n",
    "### Requerimientos\n",
    "\n",
    "* Librería `base64`, para enviar los cambios en archivos\n",
    "* Librería `json`, para el manejo de los argumentos a enviar y de las respuestas\n",
    "* Librería `requests`, para el manejo de las solicitudes a la API [(Docs)](http://docs.python-requests.org/)"
   ]
  },
  {
   "cell_type": "code",
   "execution_count": null,
   "metadata": {
    "collapsed": true
   },
   "outputs": [],
   "source": [
    "# Primero tenemos que importar las librerias que usaremos\n",
    "import base64\n",
    "import json\n",
    "import requests\n",
    "\n",
    "# Si queremos imprimir los json de respuesta \n",
    "# de una forma mas agradable a la vista podemos usar\n",
    "def print_pretty(jsonstring, indent=4, sort_keys=False):\n",
    "    print(json.dumps(jsonstring, indent=indent, sort_keys=sort_keys))"
   ]
  },
  {
   "cell_type": "markdown",
   "metadata": {},
   "source": [
    "La API tiene un límite de solicitudes **por hora** que se pueden hacer:\n",
    "\n",
    "- Usuario no autenticado => 60 solicitudes/hora\n",
    "- Usuario autenticado => **¡¡5000 solicitudes/hora!!**\n",
    "\n",
    "La autenticación debe contener nuestro usuario de GitHub y contraseña de la cuenta, o nuestro usuario de GitHub y un *personal access token* (el cual podemos crear en la configuración de nuestro perfil, siguiendo [este](https://github.com/settings/tokens) link).\n",
    "\n",
    "Para autenticarnos basta con enviar nuestras credenciales en cada solicitud que hagamos, por lo que conviene tenerlas en una variable:"
   ]
  },
  {
   "cell_type": "code",
   "execution_count": null,
   "metadata": {
    "collapsed": true
   },
   "outputs": [],
   "source": [
    "# credentials tiene el siguiente contenido como texto plano:\n",
    "# usuario\n",
    "# personal_access_token_o_clave\n",
    "\n",
    "with open(\"credentials\") as f:\n",
    "    credentials = tuple(f.read().splitlines())"
   ]
  },
  {
   "cell_type": "markdown",
   "metadata": {},
   "source": [
    "Para verificar que todo esté funcionando bien vamos a pedir la información del usuario autenticado, nosotros. La [documentación](https://developer.github.com/v3/users/#get-the-authenticated-user) indica:\n",
    "\n",
    "> GET /user"
   ]
  },
  {
   "cell_type": "code",
   "execution_count": null,
   "metadata": {
    "collapsed": false
   },
   "outputs": [],
   "source": [
    "url = \"https://api.github.com/user\"\n",
    "req = requests.get(url, auth=credentials)\n",
    "\n",
    "# Usaremos esto mas tarde\n",
    "name = req.json()[\"name\"]\n",
    "email = req.json()[\"email\"]\n",
    "\n",
    "# Para obtener el json asociado: req.json()\n",
    "# Pero queremos imprimirlo de una manera mas legible\n",
    "print_pretty(req.json())"
   ]
  },
  {
   "cell_type": "markdown",
   "metadata": {},
   "source": [
    "Esta es la respuesta a nuestra solicitud. En el header también viene información relevante:"
   ]
  },
  {
   "cell_type": "code",
   "execution_count": null,
   "metadata": {
    "collapsed": false,
    "scrolled": false
   },
   "outputs": [],
   "source": [
    "# Usamos dict(...) para formatear correctamente\n",
    "# http://stackoverflow.com/a/24533335/3281097\n",
    "print_pretty(dict(req.headers))"
   ]
  },
  {
   "cell_type": "markdown",
   "metadata": {},
   "source": [
    "Podemos ver que en header tenemos acceso a cuantas requests nos quedan:"
   ]
  },
  {
   "cell_type": "code",
   "execution_count": null,
   "metadata": {
    "collapsed": false
   },
   "outputs": [],
   "source": [
    "print(\"Nos quedan {} solicitudes\".format(dict(req.headers)['X-RateLimit-Remaining']))"
   ]
  },
  {
   "cell_type": "markdown",
   "metadata": {},
   "source": [
    "## Enviando información\n",
    "\n",
    "Ya pedimos nuestra información mediante el método `GET`. Pero, ¿qué pasa cuando debemos usar `PUT` o `POST`? Para estos métodos HTTP tenemos que enviar argumentos. Para mostrar cómo hacerlo **crearemos un repositorio** y luego **escribiremos un README.md**. Finalmente, **eliminaremos el repositorio que creemos**.\n",
    "\n",
    "### Creando un repositorio\n",
    "\n",
    "Para crear un nuevo repositorio la [documentación](https://developer.github.com/v3/repos/#create) indica:\n",
    "\n",
    "> POST /user/repos\n",
    "\n",
    "Los argumentos de input que podemos usar se encuentran documentados."
   ]
  },
  {
   "cell_type": "code",
   "execution_count": null,
   "metadata": {
    "collapsed": false,
    "scrolled": false
   },
   "outputs": [],
   "source": [
    "url = \"https://api.github.com/user/repos\"\n",
    "params = {\n",
    "    \"name\": \"dummy_repo\",\n",
    "    \"description\": \"An example repo using GitHub API v3\",\n",
    "    \"homepage\": \"{}.github.io\".format(credentials[0]),\n",
    "    \"private\": False,\n",
    "    \"has_issues\": True,\n",
    "    \"has_wiki\": False,\n",
    "    \"has_downloads\": False,\n",
    "    \"auto_init\": False\n",
    "}\n",
    "req = requests.post(url, data=json.dumps(params), auth=credentials)\n",
    "\n",
    "print(req.status_code)\n",
    "print_pretty(req.json())\n",
    "\n",
    "if req.status_code == 201:\n",
    "    repo_url = req.json()[\"url\"]\n",
    "    contents_url = req.json()[\"contents_url\"]\n",
    "\n",
    "# Si queremos chequear el recibir un codigo 200\n",
    "# assert(req.status_code == 200)"
   ]
  },
  {
   "cell_type": "markdown",
   "metadata": {},
   "source": [
    "**Ahora puedes ir a GitHub y ver tu repo**. Como podremos notar si corremos el código dos veces, la solicitud retorna **200** (`200 OK`) si el repo se pudo crear correctamente y retorna **422** (`422 Unprocessable Entity`) si el repositorio ya se encuentra creado. Si queremos asegurarnos de que se cree y detectar cuando no se crea podemos acceder al valor de `req.status_code`, que contiene un `int` indicando el código recibido.\n",
    "\n",
    "### Escribiendo un archivo\n",
    "\n",
    "Para crear un archivo en un repositorio la [documentación](https://developer.github.com/v3/repos/contents/#create-a-file) correspondiente nos dice: \n",
    "\n",
    "> PUT /repos/:owner/:repo/contents/:path\n",
    "\n",
    "Nuevamente, podemos encontrar los argumentos que nos interesen en la documentación."
   ]
  },
  {
   "cell_type": "code",
   "execution_count": null,
   "metadata": {
    "collapsed": false
   },
   "outputs": [],
   "source": [
    "# Para enviar el contenido del archivo simplemente\n",
    "# debemos codificarlo a base64\n",
    "def encode_content(file_content):\n",
    "    return base64.b64encode(file_content).decode(\"utf-8\")\n",
    "\n",
    "\n",
    "url = contents_url.replace(\"+path\", \"\").format(\"README.md\")\n",
    "params = {\n",
    "    \"path\": \"README.md\",\n",
    "    \"message\": \"Hice un commit usando la API de GitHub v3 :grin: :heart:\",\n",
    "    \"content\": encode_content(b\"# GitHub API ftw\"),\n",
    "    \"branch\": \"master\",\n",
    "    \"author\": {\n",
    "        \"name\": name,\n",
    "        \"email\": email\n",
    "    }\n",
    "}\n",
    "req = requests.put(url, data=json.dumps(params), auth=credentials)\n",
    "\n",
    "print(req.status_code)\n",
    "print_pretty(req.json())"
   ]
  },
  {
   "cell_type": "markdown",
   "metadata": {},
   "source": [
    "**Si actualizas la página de tu repo, debería aparecer el README.md y el commit que acabamos de hacer**. Como podemos comprobar, recibiremos un código **200** (`200 OK`) si el archivo se creó correctamente. Si volvemos a ejecutar el código recibiremos un error **422** (`422 Unprocessable Entity`), ¿por qué? Esto ocurre debido a que el archivo ya existe y si queremos cambiar algo en el tenemos que hacer un commit sobre el anterior, por lo que necesitamos el `sha` de dicho commit. Esto se puede encontrar en [esta seccion de la documentación](https://developer.github.com/v3/repos/contents/#update-a-file).\n",
    "\n",
    "### Eliminando un repositorio\n",
    "\n",
    "Como el código de este archivo es solo de prueba y creamos un repositorio para mostrar el uso de la API, corresponde eliminarlo. Para esto, veamos qué dice [la documentación](https://developer.github.com/v3/repos/#delete-a-repository):\n",
    "\n",
    "> DELETE /repos/:owner/:repo"
   ]
  },
  {
   "cell_type": "code",
   "execution_count": null,
   "metadata": {
    "collapsed": false
   },
   "outputs": [],
   "source": [
    "req = requests.delete(repo_url, auth=credentials)\n",
    "\n",
    "if req.status_code == 204:\n",
    "    print(\"204 No content (JSON recibido es vacío)\")\n",
    "else:\n",
    "    print_pretty(req.json())"
   ]
  },
  {
   "cell_type": "markdown",
   "metadata": {},
   "source": [
    "**Si recargas nuevamente la página de tu repo, Octocat debería decirte que no existe nada en esa dirección**. En este caso podemos recibir **204** (`204 No Content`) si el repo se elimina correctamente, **403** (`403 Forbidden`) si no tienes los derechos debidos sobre el repo o **404** (`404 Not Found`) si el repo no existe."
   ]
  },
  {
   "cell_type": "markdown",
   "metadata": {},
   "source": [
    "# Notas\n",
    "* Para el último paso es necesario el scope \"delete_repo\", lo que se debe declarar al momento de generar el token"
   ]
  }
 ],
 "metadata": {
  "kernelspec": {
   "display_name": "Python 3",
   "language": "python",
   "name": "python3"
  },
  "language_info": {
   "codemirror_mode": {
    "name": "ipython",
    "version": 3
   },
   "file_extension": ".py",
   "mimetype": "text/x-python",
   "name": "python",
   "nbconvert_exporter": "python",
   "pygments_lexer": "ipython3",
   "version": "3.4.3"
  }
 },
 "nbformat": 4,
 "nbformat_minor": 0
}
