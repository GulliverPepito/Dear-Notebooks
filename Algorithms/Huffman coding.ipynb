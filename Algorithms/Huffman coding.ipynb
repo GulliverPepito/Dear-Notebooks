{
 "cells": [
  {
   "cell_type": "markdown",
   "metadata": {},
   "source": [
    "# Huffman Coding"
   ]
  },
  {
   "cell_type": "code",
   "execution_count": 1,
   "metadata": {
    "collapsed": false
   },
   "outputs": [],
   "source": [
    "TEXT = \"THIS IS AN EXAMPLE FOR HUFFMAN ENCODING\""
   ]
  },
  {
   "cell_type": "code",
   "execution_count": 2,
   "metadata": {
    "collapsed": false
   },
   "outputs": [],
   "source": [
    "from heapq import heappush, heappop\n",
    "\n",
    "\n",
    "class HuffmanNode:\n",
    "\n",
    "    def __init__(self, char=None, freq=None, left=None, right=None):\n",
    "        self.char = str() if char is None else char\n",
    "        self.freq = int() if freq is None else freq\n",
    "        self.left = left\n",
    "        self.right = right\n",
    "        if left is not None and right is not None:\n",
    "            self.char = left.char + right.char\n",
    "            self.freq = left.freq + right.freq\n",
    "\n",
    "    def __lt__(self, other):\n",
    "        if self.freq < other.freq:\n",
    "            return True\n",
    "        elif self.freq == other.freq:\n",
    "            if len(self.char) == len(other.char) and self.char > other.char:\n",
    "                return True\n",
    "            else:\n",
    "                return len(self.char) < len(other.char)\n",
    "        return False\n",
    "\n",
    "    def __repr__(self):\n",
    "        return \"HuffmanNode: ({}, {})\".format(self.freq, self.char)\n",
    "\n",
    "\n",
    "def huffman_tree(text):\n",
    "\n",
    "    # Calculate each letter frequency\n",
    "    frequencies = {letter: text.count(letter) for letter in text}\n",
    "\n",
    "    # Sort nodes\n",
    "    # heapsort - https://docs.python.org/3/library/heapq.html#basic-examples\n",
    "    nodes = []\n",
    "    for letter, count in frequencies.items():\n",
    "        heappush(nodes, HuffmanNode(char=letter, freq=count))\n",
    "\n",
    "    # Generate tree\n",
    "    while len(nodes) > 1:\n",
    "        l_node = heappop(nodes)\n",
    "        r_node = heappop(nodes)\n",
    "        heappush(nodes, HuffmanNode(left=l_node, right=r_node))\n",
    "    return heappop(nodes)  # root node or tree\n",
    "\n",
    "\n",
    "def encode_message(text, tree):\n",
    "    coding_table = __table(tree)\n",
    "    message = str()\n",
    "    for character in text:\n",
    "        message += coding_table[character]\n",
    "    return message\n",
    "\n",
    "\n",
    "def __table(node, branch_label=None, coding_table=None):\n",
    "    branch_label = str() if branch_label is None else branch_label\n",
    "    coding_table = dict() if coding_table is None else coding_table\n",
    "    if node.left is None and node.right is None:\n",
    "        coding_table[node.char] = branch_label\n",
    "    else:\n",
    "        __table(node.left,\n",
    "                branch_label=branch_label + '0',\n",
    "                coding_table=coding_table)\n",
    "        __table(node.right,\n",
    "                branch_label=branch_label + '1',\n",
    "                coding_table=coding_table)\n",
    "    return coding_table"
   ]
  },
  {
   "cell_type": "markdown",
   "metadata": {},
   "source": [
    "### Coding"
   ]
  },
  {
   "cell_type": "code",
   "execution_count": 3,
   "metadata": {
    "collapsed": false
   },
   "outputs": [
    {
     "data": {
      "text/plain": [
       "'0110001001001111111011001111111011110000101110101010111000110111001111110110111000010011011010100010111100110000111110000101110100011110001010001100100010000'"
      ]
     },
     "execution_count": 3,
     "metadata": {},
     "output_type": "execute_result"
    }
   ],
   "source": [
    "tree = huffman_tree(TEXT)\n",
    "encoded_text = encode_message(TEXT, tree)\n",
    "encoded_text"
   ]
  },
  {
   "cell_type": "markdown",
   "metadata": {},
   "source": [
    "### Decoding"
   ]
  },
  {
   "cell_type": "code",
   "execution_count": 4,
   "metadata": {
    "collapsed": false
   },
   "outputs": [
    {
     "data": {
      "text/plain": [
       "'THIS IS AN EXAMPLE FOR HUFFMAN ENCODING'"
      ]
     },
     "execution_count": 4,
     "metadata": {},
     "output_type": "execute_result"
    }
   ],
   "source": [
    "reverse_table = {value: key for key, value in __table(tree).items()}\n",
    "compressed_list = list(encoded_text)\n",
    "decoded_text = str()\n",
    "substring = str()\n",
    "\n",
    "while len(compressed_list):\n",
    "    substring += compressed_list.pop(0)\n",
    "    extraction = reverse_table.get(substring, None)\n",
    "    if extraction is not None:\n",
    "        decoded_text += extraction\n",
    "        substring = str()\n",
    "decoded_text"
   ]
  },
  {
   "cell_type": "markdown",
   "metadata": {
    "collapsed": true
   },
   "source": [
    "# Does it work?"
   ]
  },
  {
   "cell_type": "code",
   "execution_count": 5,
   "metadata": {
    "collapsed": false
   },
   "outputs": [
    {
     "name": "stdout",
     "output_type": "stream",
     "text": [
      "Original (str): THIS IS AN EXAMPLE FOR HUFFMAN ENCODING\n",
      "\n",
      "Size: 312 bits\n",
      "Size: 39 chars\n"
     ]
    }
   ],
   "source": [
    "BITS = list()\n",
    "for character in TEXT:\n",
    "    bits = bin(ord(character))[2:]\n",
    "    bits = '00000000'[len(bits):] + bits\n",
    "    BITS.extend([int(b) for b in bits])\n",
    "    \n",
    "print(\"Original (str): {}\".format(TEXT))\n",
    "print()\n",
    "print(\"Size: {} bits\".format(len(BITS)))\n",
    "print(\"Size: {} chars\".format(len(TEXT)))"
   ]
  },
  {
   "cell_type": "code",
   "execution_count": 6,
   "metadata": {
    "collapsed": false
   },
   "outputs": [
    {
     "name": "stdout",
     "output_type": "stream",
     "text": [
      "Encoded (bits): 0110001001001111111011001111111011110000101110101010111000110111001111110110111000010011011010100010111100110000111110000101110100011110001010001100100010000\n",
      "Encoded (str): bOìþðº®7?n\u0013j/0ø]\u001e",
      "(È\u0010\n",
      "\n",
      "Size: 157 bits\n",
      "Size: 20 chars\n"
     ]
    }
   ],
   "source": [
    "from_bits = \"\".join(chr(int(\"\".join(map(str,encoded_text[i:i+8])),2)) for i in range(0,len(encoded_text),8))\n",
    "\n",
    "print(\"Encoded (bits): {}\".format(encoded_text))\n",
    "print(\"Encoded (str): {}\".format(from_bits))\n",
    "print()\n",
    "print(\"Size: {} bits\".format(len(encoded_text)))\n",
    "print(\"Size: {} chars\".format(len(from_bits)))"
   ]
  }
 ],
 "metadata": {
  "kernelspec": {
   "display_name": "Python 3",
   "language": "python",
   "name": "python3"
  },
  "language_info": {
   "codemirror_mode": {
    "name": "ipython",
    "version": 3
   },
   "file_extension": ".py",
   "mimetype": "text/x-python",
   "name": "python",
   "nbconvert_exporter": "python",
   "pygments_lexer": "ipython3",
   "version": "3.4.3"
  }
 },
 "nbformat": 4,
 "nbformat_minor": 0
}
